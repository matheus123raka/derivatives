{
 "cells": [
  {
   "cell_type": "markdown",
   "id": "eea1aff8",
   "metadata": {},
   "source": [
    "# Homework 2\n",
    "\n",
    "## FINM 37500: Fixed Income Derivatives\n",
    "\n",
    "* Matheus Raka Pradnyatama\n",
    "\n",
    "#### Winter 2025"
   ]
  },
  {
   "cell_type": "code",
   "execution_count": 1,
   "id": "c1a3f0f7",
   "metadata": {},
   "outputs": [],
   "source": [
    "import pandas as pd\n",
    "import numpy as np\n",
    "import datetime\n",
    "import holidays\n",
    "import seaborn as sns\n",
    "import math\n",
    "\n",
    "import matplotlib.pyplot as plt\n",
    "import matplotlib.dates as mdates\n",
    "\n",
    "from sklearn.linear_model import LinearRegression\n",
    "\n",
    "from scipy.optimize import minimize\n",
    "from scipy import interpolate\n",
    "from scipy.optimize import fsolve\n",
    "from scipy.stats import norm\n",
    "\n",
    "from pandas.tseries.holiday import USFederalHolidayCalendar\n",
    "from pandas.tseries.offsets import CustomBusinessDay\n",
    "import numpy.polynomial.polynomial as poly"
   ]
  },
  {
   "cell_type": "code",
   "execution_count": 2,
   "id": "a4d9615d",
   "metadata": {},
   "outputs": [],
   "source": [
    "def calc_fwdswaprate(discounts, Tfwd, Tswap, freqswap):\n",
    "    \"Tfwd = time to the forward exercise date\"\n",
    "    \"Tswap = time to swaption expiration date\"\n",
    "    \"freqswap = Swap payment frequency\"\n",
    "    \n",
    "    # Calculate the frequency of discount periods by converting the index to a series,\n",
    "    # finding the average difference between consecutive periods, and taking its reciprocal.\n",
    "    # Then round the result to get an integer frequency.\n",
    "    freqdisc = round(1 / discounts.index.to_series().diff().mean())\n",
    "\n",
    "    # Number of discount periods that correspond to one swap period\n",
    "    # Discount frequency / swap frequency\n",
    "    step = round(freqdisc / freqswap)\n",
    "    \n",
    "    # Position in the index corresponding to the forward date: Tfwd.\n",
    "    periods_fwd = discounts.index.get_loc(Tfwd)\n",
    "    # Position in the index corresponding to the swap date: Tswap.\n",
    "    periods_swap = discounts.index.get_loc(Tswap)\n",
    "    \n",
    "    # Adjust the indices to set the slice boundaries:\n",
    "    # Move the forward period index forward by one 'step' to exclude the left boundary.\n",
    "    periods_fwd += step\n",
    "    # Increment the swap period index by one to include the right boundary in the slice.\n",
    "    periods_swap += 1\n",
    "    \n",
    "    # Calculate the forward swap rate:\n",
    "    # Numerator = Swap payment frequency x (Discount factors at Tfwd - Discount Factor at Tswap)\n",
    "    # Denominator =  sum of discount factors over the specified slice (from periods_fwd to periods_swap stepping by 'step').\n",
    "    fwdswaprate = freqswap * (discounts.loc[Tfwd] - discounts.loc[Tswap]) / discounts.iloc[periods_fwd:periods_swap:step].sum()\n",
    "    \n",
    "    # Return the calculated forward swap rate.\n",
    "    return fwdswaprate\n",
    "\n",
    "def blacks_formula(T,vol,strike,fwd,discount, isCall=True):\n",
    "    # Price of call option\n",
    "    sigT = vol * np.sqrt(T)\n",
    "    d1 = (1/sigT) * np.log(fwd/strike) + .5*sigT\n",
    "    d2 = d1-sigT\n",
    "    \n",
    "    if isCall:\n",
    "        # Payer swaption (acts like a call)\n",
    "        val = discount * (fwd * norm.cdf(d1) - strike * norm.cdf(d2))\n",
    "    else:\n",
    "        # Receiver swaption (acts like a Put)\n",
    "        val = discount * (strike * norm.cdf(-d2) - fwd * norm.cdf(-d1))\n",
    "    return val\n",
    "\n",
    "### SABR\n",
    "\n",
    "def alpha_polynomial(beta, nu, rho, T, volATM, f):\n",
    "    \n",
    "    coefs = np.ones(4)\n",
    "    coefs[0] = (1-beta)**2 * T / (24*f**(2-2*beta))\n",
    "    coefs[1] = rho * beta * nu * T / (4*f**(1-beta))\n",
    "    coefs[2] = 1 + (2-3*rho**2) * nu**2 * T / 24\n",
    "    coefs[3] = -volATM * f**(1-beta)\n",
    "    \n",
    "    return np.poly1d(coefs)\n",
    "\n",
    "def solve_alpha(beta, nu, rho, T, volATM, f):\n",
    "    coefs = np.ones(4)\n",
    "    coefs[3] = (1-beta)**2 * T / (24*f**(2-2*beta))\n",
    "    coefs[2] = rho * beta * nu * T / (4*f**(1-beta))\n",
    "    coefs[1] = 1 + (2-3*rho**2) * nu**2 * T / 24\n",
    "    coefs[0] = -volATM * f**(1-beta)\n",
    "\n",
    "    roots = poly.polyroots(coefs)\n",
    "    alpha = np.real(roots[np.abs(np.imag(roots))<1e-6][0])\n",
    "    return alpha\n",
    "\n",
    "def zfun(beta, nu, alpha, f, K):\n",
    "    return (nu/alpha) * (f*K)**((1-beta)/2) * np.log(f/K)\n",
    "\n",
    "def chi(z, rho):\n",
    "    return np.log((np.sqrt(1-2*rho*z + z**2) + z - rho) / (1-rho))\n",
    "\n",
    "def sabr_slim(beta,nu,rho,f,K,T,volATM):\n",
    "\n",
    "    alpha = solve_alpha(beta, nu, rho, T, volATM, f)\n",
    "    \n",
    "    squareNUM = (((1-beta)**2)/24) * (alpha**2)/((f*K)**(1-beta)) + (1/4) * (rho*beta*nu*alpha)/((f*K)**((1-beta)/2))+((2-3*rho**2)/24)*nu**2\n",
    "    NUM = alpha * (1 + squareNUM * T)\n",
    "    squareDEN = 1 + (((1-beta)**2)/24) * ((np.log(f/K))**2) + (((1-beta)**4)/1920) * ((np.log(f/K))**4)\n",
    "    DEN = (f*K)**((1-beta)/2) * squareDEN\n",
    "    z = zfun(beta,nu,alpha,f,K)\n",
    "    sigmaB = (NUM/DEN) * (z/chi(z,rho))\n",
    "        \n",
    "    if (type(K) is np.float64) | (type(K) is float):\n",
    "        if (f==K):\n",
    "            sigmaB = sabrATM(beta,nu,rho,alpha,f,K,T)\n",
    "    else:\n",
    "        mask = f==K\n",
    "        sigmaB[mask] = sabrATM(beta,nu,rho,alpha,f,K[mask],T)\n",
    "        \n",
    "    return sigmaB\n",
    "\n",
    "def sabr(beta,nu,rho,alpha,f,K,T):\n",
    "   \n",
    "    squareNUM = (((1-beta)**2)/24) * (alpha**2)/((f*K)**(1-beta)) + (1/4) * (rho*beta*nu*alpha)/((f*K)**((1-beta)/2))+((2-3*rho**2)/24)*nu**2\n",
    "    NUM = alpha * (1 + squareNUM * T)\n",
    "    squareDEN = 1 + (((1-beta)**2)/24) * (np.log(f/K)**2) + (((1-beta)**4)/1920) * (np.log(f/K)**4)\n",
    "    DEN = (f*K)**((1-beta)/2) * squareDEN\n",
    "    z = zfun(beta,nu,alpha,f,K)        \n",
    "    sigmaB = (NUM/DEN) * (z/chi(z,rho))\n",
    "    \n",
    "    if (type(K) is np.float64) | (type(K) is float):\n",
    "        if f==K:\n",
    "            sigmaB = sabrATM(beta,nu,rho,alpha,f,K,T)\n",
    "    else:\n",
    "        mask = f==K\n",
    "        sigmaB[mask] = sabrATM(beta,nu,rho,alpha,f,K[mask],T)\n",
    "        \n",
    "    return sigmaB\n",
    "\n",
    "def sabrATM(beta,nu,rho,alpha,f,K,T):\n",
    "    brack = (((1-beta)**2)/24) * ((alpha**2)/(f**(2-2*beta))) + (rho * beta * nu * alpha)/(4*f**(1-beta)) + ((2-3*rho**2)/24) * nu**2\n",
    "    \n",
    "    sigma = alpha * (1+brack*T) / f**(1-beta)\n",
    "\n",
    "    return sigma"
   ]
  },
  {
   "cell_type": "markdown",
   "id": "0e879ec6",
   "metadata": {},
   "source": [
    "***"
   ]
  },
  {
   "cell_type": "markdown",
   "id": "f9d9f901",
   "metadata": {},
   "source": [
    "# 1."
   ]
  },
  {
   "cell_type": "markdown",
   "id": "c450e7d2",
   "metadata": {},
   "source": [
    "## Swaption Vol Data\n",
    "\n",
    "The file `data/swaption_vol_data_2025-01-31.xlsx` has market data on the implied volatility skews for swaptions. Note that it has several columns:\n",
    "* `expry`: expiration of the swaption\n",
    "* `tenor`: tenor of the underlying swap\n",
    "* `model`: the model by which the volatility is quoted. (All are Black.)\n",
    "* `-200`, `-100`, etc.: The strike listed as difference from ATM strike (bps). Note that ATM is considered to be the **forward swapa rate** which you can calculate."
   ]
  },
  {
   "cell_type": "markdown",
   "id": "32ef6430",
   "metadata": {},
   "source": [
    "Your data: ywill use a single row of this data for the `1x4` swaption.\n",
    "* date: `2025-01-31`\n",
    "* expiration: 1yr\n",
    "* tenor: 4yrs"
   ]
  },
  {
   "cell_type": "code",
   "execution_count": 3,
   "id": "d1f5f736",
   "metadata": {},
   "outputs": [
    {
     "data": {
      "text/html": [
       "<div>\n",
       "<style scoped>\n",
       "    .dataframe tbody tr th:only-of-type {\n",
       "        vertical-align: middle;\n",
       "    }\n",
       "\n",
       "    .dataframe tbody tr th {\n",
       "        vertical-align: top;\n",
       "    }\n",
       "\n",
       "    .dataframe thead th {\n",
       "        text-align: right;\n",
       "    }\n",
       "</style>\n",
       "<table border=\"1\" class=\"dataframe\">\n",
       "  <thead>\n",
       "    <tr style=\"text-align: right;\">\n",
       "      <th></th>\n",
       "      <th>reference</th>\n",
       "      <th>instrument</th>\n",
       "      <th>model</th>\n",
       "      <th>date</th>\n",
       "      <th>expiration</th>\n",
       "      <th>tenor</th>\n",
       "      <th>-200</th>\n",
       "      <th>-100</th>\n",
       "      <th>-50</th>\n",
       "      <th>-25</th>\n",
       "      <th>0</th>\n",
       "      <th>25</th>\n",
       "      <th>50</th>\n",
       "      <th>100</th>\n",
       "      <th>200</th>\n",
       "    </tr>\n",
       "  </thead>\n",
       "  <tbody>\n",
       "    <tr>\n",
       "      <th>implied vol</th>\n",
       "      <td>SOFR</td>\n",
       "      <td>swaption</td>\n",
       "      <td>black</td>\n",
       "      <td>2025-01-31</td>\n",
       "      <td>1</td>\n",
       "      <td>4</td>\n",
       "      <td>42.13</td>\n",
       "      <td>31.51</td>\n",
       "      <td>28.15</td>\n",
       "      <td>26.89</td>\n",
       "      <td>25.9</td>\n",
       "      <td>25.16</td>\n",
       "      <td>24.66</td>\n",
       "      <td>24.23</td>\n",
       "      <td>24.73</td>\n",
       "    </tr>\n",
       "  </tbody>\n",
       "</table>\n",
       "</div>"
      ],
      "text/plain": [
       "            reference instrument  model       date  expiration  tenor   -200  \\\n",
       "implied vol      SOFR   swaption  black 2025-01-31           1      4  42.13   \n",
       "\n",
       "              -100    -50    -25     0     25     50    100    200  \n",
       "implied vol  31.51  28.15  26.89  25.9  25.16  24.66  24.23  24.73  "
      ]
     },
     "execution_count": 3,
     "metadata": {},
     "output_type": "execute_result"
    }
   ],
   "source": [
    "filepath_rawdata = f'../data/swaption_vol_data_2025-01-31.xlsx'\n",
    "volquote = pd.read_excel(filepath_rawdata)\n",
    "volquote.index = ['implied vol']\n",
    "volquote.head(20)"
   ]
  },
  {
   "cell_type": "markdown",
   "id": "051b87a1",
   "metadata": {},
   "source": [
    "## Rate Data\n",
    "\n",
    "The file `data/cap_curves_2025-01-31.xlsx` gives \n",
    "* SOFR swap rates, \n",
    "* their associated discount factors\n",
    "* their associated forward interest rates.\n",
    "\n",
    "You will not need the cap data (flat or forward vols) for this problem."
   ]
  },
  {
   "cell_type": "code",
   "execution_count": 4,
   "id": "d7b43a22",
   "metadata": {},
   "outputs": [
    {
     "data": {
      "text/html": [
       "<div>\n",
       "<style scoped>\n",
       "    .dataframe tbody tr th:only-of-type {\n",
       "        vertical-align: middle;\n",
       "    }\n",
       "\n",
       "    .dataframe tbody tr th {\n",
       "        vertical-align: top;\n",
       "    }\n",
       "\n",
       "    .dataframe thead th {\n",
       "        text-align: right;\n",
       "    }\n",
       "</style>\n",
       "<table border=\"1\" class=\"dataframe\">\n",
       "  <thead>\n",
       "    <tr style=\"text-align: right;\">\n",
       "      <th></th>\n",
       "      <th>swap rates</th>\n",
       "      <th>spot rates</th>\n",
       "      <th>discounts</th>\n",
       "      <th>forwards</th>\n",
       "      <th>flat vols</th>\n",
       "      <th>fwd vols</th>\n",
       "    </tr>\n",
       "    <tr>\n",
       "      <th>tenor</th>\n",
       "      <th></th>\n",
       "      <th></th>\n",
       "      <th></th>\n",
       "      <th></th>\n",
       "      <th></th>\n",
       "      <th></th>\n",
       "    </tr>\n",
       "  </thead>\n",
       "  <tbody>\n",
       "    <tr>\n",
       "      <th>0.25</th>\n",
       "      <td>0.042340</td>\n",
       "      <td>0.042340</td>\n",
       "      <td>0.989526</td>\n",
       "      <td>NaN</td>\n",
       "      <td>NaN</td>\n",
       "      <td>NaN</td>\n",
       "    </tr>\n",
       "    <tr>\n",
       "      <th>0.50</th>\n",
       "      <td>0.041854</td>\n",
       "      <td>0.041852</td>\n",
       "      <td>0.979398</td>\n",
       "      <td>0.041364</td>\n",
       "      <td>0.101500</td>\n",
       "      <td>0.101500</td>\n",
       "    </tr>\n",
       "    <tr>\n",
       "      <th>0.75</th>\n",
       "      <td>0.041404</td>\n",
       "      <td>0.041397</td>\n",
       "      <td>0.969584</td>\n",
       "      <td>0.040489</td>\n",
       "      <td>0.116946</td>\n",
       "      <td>0.128478</td>\n",
       "    </tr>\n",
       "    <tr>\n",
       "      <th>1.00</th>\n",
       "      <td>0.041029</td>\n",
       "      <td>0.041018</td>\n",
       "      <td>0.960012</td>\n",
       "      <td>0.039882</td>\n",
       "      <td>0.132391</td>\n",
       "      <td>0.154562</td>\n",
       "    </tr>\n",
       "    <tr>\n",
       "      <th>1.25</th>\n",
       "      <td>0.040458</td>\n",
       "      <td>0.040438</td>\n",
       "      <td>0.950950</td>\n",
       "      <td>0.038117</td>\n",
       "      <td>0.159421</td>\n",
       "      <td>0.219138</td>\n",
       "    </tr>\n",
       "  </tbody>\n",
       "</table>\n",
       "</div>"
      ],
      "text/plain": [
       "       swap rates  spot rates  discounts  forwards  flat vols  fwd vols\n",
       "tenor                                                                  \n",
       "0.25     0.042340    0.042340   0.989526       NaN        NaN       NaN\n",
       "0.50     0.041854    0.041852   0.979398  0.041364   0.101500  0.101500\n",
       "0.75     0.041404    0.041397   0.969584  0.040489   0.116946  0.128478\n",
       "1.00     0.041029    0.041018   0.960012  0.039882   0.132391  0.154562\n",
       "1.25     0.040458    0.040438   0.950950  0.038117   0.159421  0.219138"
      ]
     },
     "execution_count": 4,
     "metadata": {},
     "output_type": "execute_result"
    }
   ],
   "source": [
    "filepath_rawdata = f'../data/cap_curves_2025-01-31.xlsx'\n",
    "curvedata = pd.read_excel(filepath_rawdata)\n",
    "curvedata.set_index('tenor',inplace=True)\n",
    "\n",
    "curvedata.head()"
   ]
  },
  {
   "cell_type": "markdown",
   "id": "52771ae5",
   "metadata": {},
   "source": [
    "## The Swaption\n",
    "\n",
    "Consider the following swaption with the following features:\n",
    "* underlying is a fixed-for-floating (SOFR) swap\n",
    "* the underlying swap has **quarterly** payment frequency\n",
    "* this is a **payer** swaption, which gives the holder the option to **pay** the fixed swap rate and receive SOFR."
   ]
  },
  {
   "cell_type": "markdown",
   "id": "f4420b0d",
   "metadata": {},
   "source": [
    "### 1.1\n",
    "Calculate the (relevant) forward swap rate. That is, the one-year forward 4-year swap rate."
   ]
  },
  {
   "cell_type": "code",
   "execution_count": 5,
   "id": "65bc2c30",
   "metadata": {},
   "outputs": [
    {
     "name": "stdout",
     "output_type": "stream",
     "text": [
      "The forward swap rate is: 3.9385%\n"
     ]
    }
   ],
   "source": [
    "# Option Expiry Date\n",
    "Topt = 1\n",
    "# Tenor of the Swap\n",
    "tenor_swap = 4\n",
    "\n",
    "# Tenor of Swaption = Option Expiration time + Swap Tenor\n",
    "T_swaption = Topt + tenor_swap\n",
    "\n",
    "# Formula Inputs\n",
    "discounts = curvedata['discounts']\n",
    "# Time for Forward Exercise = Option's Tenor\n",
    "Tfwd = Topt\n",
    "Tswap = T_swaption\n",
    "# Quarterly Payment Frequency for the swap\n",
    "freqswap = 4\n",
    "\n",
    "fwdswap = calc_fwdswaprate(discounts, Tfwd, Tswap, freqswap)\n",
    "print(f\"The forward swap rate is: {fwdswap:.4%}\")\n"
   ]
  },
  {
   "cell_type": "markdown",
   "id": "b0ca2cee",
   "metadata": {},
   "source": [
    "### 1.2\n",
    "Price the swaptions at the quoted implied volatilites and corresponding strikes, all using the just-calculated forward swap rate as the underlying."
   ]
  },
  {
   "cell_type": "code",
   "execution_count": 6,
   "id": "b5aafccd",
   "metadata": {},
   "outputs": [
    {
     "data": {
      "text/html": [
       "<div>\n",
       "<style scoped>\n",
       "    .dataframe tbody tr th:only-of-type {\n",
       "        vertical-align: middle;\n",
       "    }\n",
       "\n",
       "    .dataframe tbody tr th {\n",
       "        vertical-align: top;\n",
       "    }\n",
       "\n",
       "    .dataframe thead th {\n",
       "        text-align: right;\n",
       "    }\n",
       "</style>\n",
       "<table border=\"1\" class=\"dataframe\">\n",
       "  <thead>\n",
       "    <tr style=\"text-align: right;\">\n",
       "      <th></th>\n",
       "      <th>reference</th>\n",
       "      <th>instrument</th>\n",
       "      <th>model</th>\n",
       "      <th>date</th>\n",
       "      <th>expiration</th>\n",
       "      <th>tenor</th>\n",
       "      <th>-200</th>\n",
       "      <th>-100</th>\n",
       "      <th>-50</th>\n",
       "      <th>-25</th>\n",
       "      <th>0</th>\n",
       "      <th>25</th>\n",
       "      <th>50</th>\n",
       "      <th>100</th>\n",
       "      <th>200</th>\n",
       "    </tr>\n",
       "  </thead>\n",
       "  <tbody>\n",
       "    <tr>\n",
       "      <th>implied vol</th>\n",
       "      <td>SOFR</td>\n",
       "      <td>swaption</td>\n",
       "      <td>black</td>\n",
       "      <td>2025-01-31</td>\n",
       "      <td>1</td>\n",
       "      <td>4</td>\n",
       "      <td>42.13</td>\n",
       "      <td>31.51</td>\n",
       "      <td>28.15</td>\n",
       "      <td>26.89</td>\n",
       "      <td>25.9</td>\n",
       "      <td>25.16</td>\n",
       "      <td>24.66</td>\n",
       "      <td>24.23</td>\n",
       "      <td>24.73</td>\n",
       "    </tr>\n",
       "  </tbody>\n",
       "</table>\n",
       "</div>"
      ],
      "text/plain": [
       "            reference instrument  model       date  expiration  tenor   -200  \\\n",
       "implied vol      SOFR   swaption  black 2025-01-31           1      4  42.13   \n",
       "\n",
       "              -100    -50    -25     0     25     50    100    200  \n",
       "implied vol  31.51  28.15  26.89  25.9  25.16  24.66  24.23  24.73  "
      ]
     },
     "execution_count": 6,
     "metadata": {},
     "output_type": "execute_result"
    }
   ],
   "source": [
    "volquote"
   ]
  },
  {
   "cell_type": "code",
   "execution_count": 7,
   "id": "69c782ae",
   "metadata": {},
   "outputs": [
    {
     "data": {
      "text/plain": [
       "array([-200, -100,  -50,  -25,    0,   25,   50,  100,  200])"
      ]
     },
     "execution_count": 7,
     "metadata": {},
     "output_type": "execute_result"
    }
   ],
   "source": [
    "# Difference from ATM Strike Price\n",
    "strikerange = np.array(volquote.columns[-9:].tolist())\n",
    "strikerange"
   ]
  },
  {
   "cell_type": "code",
   "execution_count": 8,
   "id": "1cba11cd",
   "metadata": {},
   "outputs": [
    {
     "data": {
      "text/html": [
       "<div>\n",
       "<style scoped>\n",
       "    .dataframe tbody tr th:only-of-type {\n",
       "        vertical-align: middle;\n",
       "    }\n",
       "\n",
       "    .dataframe tbody tr th {\n",
       "        vertical-align: top;\n",
       "    }\n",
       "\n",
       "    .dataframe thead th {\n",
       "        text-align: right;\n",
       "    }\n",
       "</style>\n",
       "<table border=\"1\" class=\"dataframe\">\n",
       "  <thead>\n",
       "    <tr style=\"text-align: right;\">\n",
       "      <th></th>\n",
       "      <th>-200</th>\n",
       "      <th>-100</th>\n",
       "      <th>-50</th>\n",
       "      <th>-25</th>\n",
       "      <th>0</th>\n",
       "      <th>25</th>\n",
       "      <th>50</th>\n",
       "      <th>100</th>\n",
       "      <th>200</th>\n",
       "    </tr>\n",
       "  </thead>\n",
       "  <tbody>\n",
       "    <tr>\n",
       "      <th>implied vol</th>\n",
       "      <td>0.4213</td>\n",
       "      <td>0.3151</td>\n",
       "      <td>0.2815</td>\n",
       "      <td>0.2689</td>\n",
       "      <td>0.259</td>\n",
       "      <td>0.2516</td>\n",
       "      <td>0.2466</td>\n",
       "      <td>0.2423</td>\n",
       "      <td>0.2473</td>\n",
       "    </tr>\n",
       "  </tbody>\n",
       "</table>\n",
       "</div>"
      ],
      "text/plain": [
       "               -200    -100     -50     -25      0      25      50     100  \\\n",
       "implied vol  0.4213  0.3151  0.2815  0.2689  0.259  0.2516  0.2466  0.2423   \n",
       "\n",
       "                200  \n",
       "implied vol  0.2473  "
      ]
     },
     "execution_count": 8,
     "metadata": {},
     "output_type": "execute_result"
    }
   ],
   "source": [
    "# Column names of Difference from ATM Strike Price\n",
    "strikerange = np.array(volquote.columns[-9:].tolist())\n",
    "\n",
    "# Implied Volatilities\n",
    "# Initially were in percentages, convert to real numbers\n",
    "vols = volquote[strikerange] / 100\n",
    "vols"
   ]
  },
  {
   "cell_type": "code",
   "execution_count": 9,
   "id": "9a71ca1f",
   "metadata": {},
   "outputs": [
    {
     "data": {
      "text/html": [
       "<div>\n",
       "<style scoped>\n",
       "    .dataframe tbody tr th:only-of-type {\n",
       "        vertical-align: middle;\n",
       "    }\n",
       "\n",
       "    .dataframe tbody tr th {\n",
       "        vertical-align: top;\n",
       "    }\n",
       "\n",
       "    .dataframe thead th {\n",
       "        text-align: right;\n",
       "    }\n",
       "</style>\n",
       "<table border=\"1\" class=\"dataframe\">\n",
       "  <thead>\n",
       "    <tr style=\"text-align: right;\">\n",
       "      <th></th>\n",
       "      <th>-200</th>\n",
       "      <th>-100</th>\n",
       "      <th>-50</th>\n",
       "      <th>-25</th>\n",
       "      <th>0</th>\n",
       "      <th>25</th>\n",
       "      <th>50</th>\n",
       "      <th>100</th>\n",
       "      <th>200</th>\n",
       "    </tr>\n",
       "  </thead>\n",
       "  <tbody>\n",
       "    <tr>\n",
       "      <th>implied vol</th>\n",
       "      <td>0.421300</td>\n",
       "      <td>0.315100</td>\n",
       "      <td>0.281500</td>\n",
       "      <td>0.268900</td>\n",
       "      <td>0.259000</td>\n",
       "      <td>0.251600</td>\n",
       "      <td>0.246600</td>\n",
       "      <td>0.242300</td>\n",
       "      <td>0.247300</td>\n",
       "    </tr>\n",
       "    <tr>\n",
       "      <th>strikes</th>\n",
       "      <td>0.019385</td>\n",
       "      <td>0.029385</td>\n",
       "      <td>0.034385</td>\n",
       "      <td>0.036885</td>\n",
       "      <td>0.039385</td>\n",
       "      <td>0.041885</td>\n",
       "      <td>0.044385</td>\n",
       "      <td>0.049385</td>\n",
       "      <td>0.059385</td>\n",
       "    </tr>\n",
       "  </tbody>\n",
       "</table>\n",
       "</div>"
      ],
      "text/plain": [
       "                 -200      -100       -50       -25         0        25  \\\n",
       "implied vol  0.421300  0.315100  0.281500  0.268900  0.259000  0.251600   \n",
       "strikes      0.019385  0.029385  0.034385  0.036885  0.039385  0.041885   \n",
       "\n",
       "                   50       100       200  \n",
       "implied vol  0.246600  0.242300  0.247300  \n",
       "strikes      0.044385  0.049385  0.059385  "
      ]
     },
     "execution_count": 9,
     "metadata": {},
     "output_type": "execute_result"
    }
   ],
   "source": [
    "# Strike Rates = Forward Swap Rate + Difference from ATM Strike Rate (convert from bps to actual numbers)\n",
    "strikes = fwdswap + strikerange/10_000\n",
    "\n",
    "# Put the Strikes into the dataframe\n",
    "blacks_quotes = vols.copy()\n",
    "blacks_quotes.loc['strikes'] = strikes\n",
    "blacks_quotes"
   ]
  },
  {
   "cell_type": "code",
   "execution_count": 10,
   "id": "58a067bf",
   "metadata": {},
   "outputs": [
    {
     "name": "stdout",
     "output_type": "stream",
     "text": [
      "The ATM Strike Rate is: 3.9385%\n",
      "The ATM Implied Vol is: 0.2590\n"
     ]
    }
   ],
   "source": [
    "# This part is unnecessary\n",
    "QUOTE_STYLE = 'black'\n",
    "# if QUOTE_STYLE == 'normal':\n",
    "#     vols /= 100 * fwdrate\n",
    "\n",
    "volATM = blacks_quotes.loc['implied vol', 0]\n",
    "strike_ATM = blacks_quotes.loc['strikes', 0]\n",
    "\n",
    "print(f\"The ATM Strike Rate is: {strike_ATM:.4%}\")\n",
    "print(f\"The ATM Implied Vol is: {volATM:.4f}\")"
   ]
  },
  {
   "cell_type": "code",
   "execution_count": 11,
   "id": "3352f4d2",
   "metadata": {},
   "outputs": [
    {
     "data": {
      "text/html": [
       "<div>\n",
       "<style scoped>\n",
       "    .dataframe tbody tr th:only-of-type {\n",
       "        vertical-align: middle;\n",
       "    }\n",
       "\n",
       "    .dataframe tbody tr th {\n",
       "        vertical-align: top;\n",
       "    }\n",
       "\n",
       "    .dataframe thead th {\n",
       "        text-align: right;\n",
       "    }\n",
       "</style>\n",
       "<table border=\"1\" class=\"dataframe\">\n",
       "  <thead>\n",
       "    <tr style=\"text-align: right;\">\n",
       "      <th></th>\n",
       "      <th>swap rates</th>\n",
       "      <th>spot rates</th>\n",
       "      <th>discounts</th>\n",
       "      <th>forwards</th>\n",
       "      <th>flat vols</th>\n",
       "      <th>fwd vols</th>\n",
       "    </tr>\n",
       "    <tr>\n",
       "      <th>tenor</th>\n",
       "      <th></th>\n",
       "      <th></th>\n",
       "      <th></th>\n",
       "      <th></th>\n",
       "      <th></th>\n",
       "      <th></th>\n",
       "    </tr>\n",
       "  </thead>\n",
       "  <tbody>\n",
       "    <tr>\n",
       "      <th>0.25</th>\n",
       "      <td>0.042340</td>\n",
       "      <td>0.042340</td>\n",
       "      <td>0.989526</td>\n",
       "      <td>NaN</td>\n",
       "      <td>NaN</td>\n",
       "      <td>NaN</td>\n",
       "    </tr>\n",
       "    <tr>\n",
       "      <th>0.50</th>\n",
       "      <td>0.041854</td>\n",
       "      <td>0.041852</td>\n",
       "      <td>0.979398</td>\n",
       "      <td>0.041364</td>\n",
       "      <td>0.101500</td>\n",
       "      <td>0.101500</td>\n",
       "    </tr>\n",
       "    <tr>\n",
       "      <th>0.75</th>\n",
       "      <td>0.041404</td>\n",
       "      <td>0.041397</td>\n",
       "      <td>0.969584</td>\n",
       "      <td>0.040489</td>\n",
       "      <td>0.116946</td>\n",
       "      <td>0.128478</td>\n",
       "    </tr>\n",
       "    <tr>\n",
       "      <th>1.00</th>\n",
       "      <td>0.041029</td>\n",
       "      <td>0.041018</td>\n",
       "      <td>0.960012</td>\n",
       "      <td>0.039882</td>\n",
       "      <td>0.132391</td>\n",
       "      <td>0.154562</td>\n",
       "    </tr>\n",
       "    <tr>\n",
       "      <th>1.25</th>\n",
       "      <td>0.040458</td>\n",
       "      <td>0.040438</td>\n",
       "      <td>0.950950</td>\n",
       "      <td>0.038117</td>\n",
       "      <td>0.159421</td>\n",
       "      <td>0.219138</td>\n",
       "    </tr>\n",
       "  </tbody>\n",
       "</table>\n",
       "</div>"
      ],
      "text/plain": [
       "       swap rates  spot rates  discounts  forwards  flat vols  fwd vols\n",
       "tenor                                                                  \n",
       "0.25     0.042340    0.042340   0.989526       NaN        NaN       NaN\n",
       "0.50     0.041854    0.041852   0.979398  0.041364   0.101500  0.101500\n",
       "0.75     0.041404    0.041397   0.969584  0.040489   0.116946  0.128478\n",
       "1.00     0.041029    0.041018   0.960012  0.039882   0.132391  0.154562\n",
       "1.25     0.040458    0.040438   0.950950  0.038117   0.159421  0.219138"
      ]
     },
     "execution_count": 11,
     "metadata": {},
     "output_type": "execute_result"
    }
   ],
   "source": [
    "curvedata.head()"
   ]
  },
  {
   "cell_type": "code",
   "execution_count": 12,
   "id": "382a4386",
   "metadata": {},
   "outputs": [
    {
     "data": {
      "text/plain": [
       "3"
      ]
     },
     "execution_count": 12,
     "metadata": {},
     "output_type": "execute_result"
    }
   ],
   "source": [
    "# Row/index position of the Tenor Option (1) in the Dataframe\n",
    "period_fwd = curvedata.index.get_loc(Topt)\n",
    "period_fwd"
   ]
  },
  {
   "cell_type": "code",
   "execution_count": 13,
   "id": "8d127a6d",
   "metadata": {},
   "outputs": [
    {
     "data": {
      "text/plain": [
       "20"
      ]
     },
     "execution_count": 13,
     "metadata": {},
     "output_type": "execute_result"
    }
   ],
   "source": [
    "# Row/index position of the Tenor Swap (5) + 1 in the Dataframe\n",
    "period_swap = curvedata.index.get_loc(Tswap)+1\n",
    "period_swap"
   ]
  },
  {
   "cell_type": "code",
   "execution_count": 14,
   "id": "324a2992",
   "metadata": {},
   "outputs": [
    {
     "name": "stdout",
     "output_type": "stream",
     "text": [
      "Sum of the Discount Factors is: 3.5391\n"
     ]
    }
   ],
   "source": [
    "# Compounding frequency of the Discount Curve\n",
    "freqcurve = 4\n",
    "\n",
    "# Row/index position of the Tenor Option (1) in the Dataframe\n",
    "period_fwd = curvedata.index.get_loc(Topt)\n",
    "\n",
    "# Row/index position of the Tenor Swap (5) + 1 in the Dataframe\n",
    "period_swap = curvedata.index.get_loc(Tswap)+1\n",
    "step = round(freqcurve/freqswap)\n",
    "\n",
    "# Discount Factor\n",
    "sum_discount = curvedata['discounts'].iloc[period_fwd + step : period_swap : step].sum()/freqswap\n",
    "print(f\"Sum of the Discount Factors is: {sum_discount:.4f}\")"
   ]
  },
  {
   "cell_type": "code",
   "execution_count": 15,
   "id": "55c738f3",
   "metadata": {},
   "outputs": [
    {
     "data": {
      "text/plain": [
       "array([7.15552522, 3.89717089, 2.5112578 , 1.92832254, 1.4362333 ,\n",
       "       1.03992958, 0.73635395, 0.35524075, 0.08468189])"
      ]
     },
     "execution_count": 15,
     "metadata": {},
     "output_type": "execute_result"
    }
   ],
   "source": [
    "# Calculating Swaption Price\n",
    "\n",
    "# Compounding frequency of the Discount Curve\n",
    "freqcurve = 4\n",
    "# Sum of Discount Factor Calculation\n",
    "period_fwd = curvedata.index.get_loc(Topt)\n",
    "period_swap = curvedata.index.get_loc(Topt+tenor_swap)+1\n",
    "step = round(freqcurve/freqswap)\n",
    "sum_discount = curvedata['discounts'].iloc[period_fwd + step : period_swap : step].sum()/freqswap\n",
    "\n",
    "# Formula Inputs\n",
    "N = 100\n",
    "T = Topt\n",
    "vol = vols.loc[['implied vol']] # Flat vol\n",
    "strike = strikes\n",
    "fwd = fwdswap\n",
    "# Use the sum of discount \n",
    "discount = sum_discount\n",
    "\n",
    "# Payer Swaption Price = N x Call Option Price (via Black's Formula)\n",
    "swaption_price = N * blacks_formula(T, vol, strike, fwd, discount, isCall=True)[0]\n",
    "swaption_price"
   ]
  },
  {
   "cell_type": "code",
   "execution_count": 16,
   "id": "6efaedfa",
   "metadata": {},
   "outputs": [
    {
     "data": {
      "text/html": [
       "<style type=\"text/css\">\n",
       "</style>\n",
       "<table id=\"T_f487d\">\n",
       "  <thead>\n",
       "    <tr>\n",
       "      <th class=\"blank level0\" >&nbsp;</th>\n",
       "      <th id=\"T_f487d_level0_col0\" class=\"col_heading level0 col0\" >-200</th>\n",
       "      <th id=\"T_f487d_level0_col1\" class=\"col_heading level0 col1\" >-100</th>\n",
       "      <th id=\"T_f487d_level0_col2\" class=\"col_heading level0 col2\" >-50</th>\n",
       "      <th id=\"T_f487d_level0_col3\" class=\"col_heading level0 col3\" >-25</th>\n",
       "      <th id=\"T_f487d_level0_col4\" class=\"col_heading level0 col4\" >0</th>\n",
       "      <th id=\"T_f487d_level0_col5\" class=\"col_heading level0 col5\" >25</th>\n",
       "      <th id=\"T_f487d_level0_col6\" class=\"col_heading level0 col6\" >50</th>\n",
       "      <th id=\"T_f487d_level0_col7\" class=\"col_heading level0 col7\" >100</th>\n",
       "      <th id=\"T_f487d_level0_col8\" class=\"col_heading level0 col8\" >200</th>\n",
       "    </tr>\n",
       "  </thead>\n",
       "  <tbody>\n",
       "    <tr>\n",
       "      <th id=\"T_f487d_level0_row0\" class=\"row_heading level0 row0\" >implied vol</th>\n",
       "      <td id=\"T_f487d_row0_col0\" class=\"data row0 col0\" >42.13%</td>\n",
       "      <td id=\"T_f487d_row0_col1\" class=\"data row0 col1\" >31.51%</td>\n",
       "      <td id=\"T_f487d_row0_col2\" class=\"data row0 col2\" >28.15%</td>\n",
       "      <td id=\"T_f487d_row0_col3\" class=\"data row0 col3\" >26.89%</td>\n",
       "      <td id=\"T_f487d_row0_col4\" class=\"data row0 col4\" >25.90%</td>\n",
       "      <td id=\"T_f487d_row0_col5\" class=\"data row0 col5\" >25.16%</td>\n",
       "      <td id=\"T_f487d_row0_col6\" class=\"data row0 col6\" >24.66%</td>\n",
       "      <td id=\"T_f487d_row0_col7\" class=\"data row0 col7\" >24.23%</td>\n",
       "      <td id=\"T_f487d_row0_col8\" class=\"data row0 col8\" >24.73%</td>\n",
       "    </tr>\n",
       "    <tr>\n",
       "      <th id=\"T_f487d_level0_row1\" class=\"row_heading level0 row1\" >strikes</th>\n",
       "      <td id=\"T_f487d_row1_col0\" class=\"data row1 col0\" >1.94%</td>\n",
       "      <td id=\"T_f487d_row1_col1\" class=\"data row1 col1\" >2.94%</td>\n",
       "      <td id=\"T_f487d_row1_col2\" class=\"data row1 col2\" >3.44%</td>\n",
       "      <td id=\"T_f487d_row1_col3\" class=\"data row1 col3\" >3.69%</td>\n",
       "      <td id=\"T_f487d_row1_col4\" class=\"data row1 col4\" >3.94%</td>\n",
       "      <td id=\"T_f487d_row1_col5\" class=\"data row1 col5\" >4.19%</td>\n",
       "      <td id=\"T_f487d_row1_col6\" class=\"data row1 col6\" >4.44%</td>\n",
       "      <td id=\"T_f487d_row1_col7\" class=\"data row1 col7\" >4.94%</td>\n",
       "      <td id=\"T_f487d_row1_col8\" class=\"data row1 col8\" >5.94%</td>\n",
       "    </tr>\n",
       "    <tr>\n",
       "      <th id=\"T_f487d_level0_row2\" class=\"row_heading level0 row2\" >price</th>\n",
       "      <td id=\"T_f487d_row2_col0\" class=\"data row2 col0\" >7.16</td>\n",
       "      <td id=\"T_f487d_row2_col1\" class=\"data row2 col1\" >3.90</td>\n",
       "      <td id=\"T_f487d_row2_col2\" class=\"data row2 col2\" >2.51</td>\n",
       "      <td id=\"T_f487d_row2_col3\" class=\"data row2 col3\" >1.93</td>\n",
       "      <td id=\"T_f487d_row2_col4\" class=\"data row2 col4\" >1.44</td>\n",
       "      <td id=\"T_f487d_row2_col5\" class=\"data row2 col5\" >1.04</td>\n",
       "      <td id=\"T_f487d_row2_col6\" class=\"data row2 col6\" >0.74</td>\n",
       "      <td id=\"T_f487d_row2_col7\" class=\"data row2 col7\" >0.36</td>\n",
       "      <td id=\"T_f487d_row2_col8\" class=\"data row2 col8\" >0.08</td>\n",
       "    </tr>\n",
       "  </tbody>\n",
       "</table>\n"
      ],
      "text/plain": [
       "<pandas.io.formats.style.Styler at 0x102fbf9d0>"
      ]
     },
     "execution_count": 16,
     "metadata": {},
     "output_type": "execute_result"
    }
   ],
   "source": [
    "blacks_quotes.loc['price'] = swaption_price\n",
    "\n",
    "blacks_quotes.style.format('{:.2%}').format('{:.2f}',subset=pd.IndexSlice['price',:])"
   ]
  },
  {
   "cell_type": "markdown",
   "id": "a42e3022",
   "metadata": {},
   "source": [
    "### 1.3\n",
    "To consider how the expiration and tenor matter, calculate the prices of a few other swaptions for comparison. \n",
    "* No need to get other implied vol quotes--just use the ATM implied vol you have for the swaption above. (Here we are just interested in how Black's formula changes with changes in tenor and expiration.)\n",
    "* No need to calculate for all the strikes--just do the ATM strike.\n",
    "\n",
    "Alternate swaptions\n",
    "* The 3mo x 4yr swaption\n",
    "* The 2yr x 4yr swaption\n",
    "* the 1yr x 2yr swaption\n",
    "\n",
    "Report these values and compare them to the price of the `1y x 4y` swaption."
   ]
  },
  {
   "cell_type": "code",
   "execution_count": 17,
   "id": "57391530",
   "metadata": {},
   "outputs": [
    {
     "name": "stdout",
     "output_type": "stream",
     "text": [
      "The ATM Strike Rate is: 3.9385%\n",
      "The ATM Implied Vol is: 0.2590\n",
      "Initially, we have a 1-year 4-year swaption\n"
     ]
    }
   ],
   "source": [
    "print(f\"The ATM Strike Rate is: {strike_ATM:.4%}\")\n",
    "print(f\"The ATM Implied Vol is: {volATM:.4f}\")\n",
    "# Initially\n",
    "print(f\"Initially, we have a {Topt}-year {tenor_swap}-year swaption\")"
   ]
  },
  {
   "cell_type": "code",
   "execution_count": 18,
   "id": "427e3914",
   "metadata": {},
   "outputs": [
    {
     "name": "stdout",
     "output_type": "stream",
     "text": [
      "The forward swap rate is: 3.9589%\n",
      "Price for 0.25-year 4-year Swaption is: $0.7808\n"
     ]
    }
   ],
   "source": [
    "# For a 3mo x 4 year swaption\n",
    "Topt = 0.25\n",
    "tenor_swap = 4\n",
    "tenor_swaption = Topt + tenor_swap\n",
    "Tswap = tenor_swaption\n",
    "\n",
    "# Formula inputs for Forward Swap Rate\n",
    "# Time for Forward Exercise = Option's Tenor\n",
    "Tfwd = Topt\n",
    "# Use the swaption's tenor, not just the swap\n",
    "Tswap = T_swaption\n",
    "freqswap = 4\n",
    "discounts = curvedata['discounts']\n",
    "\n",
    "fwdswap = calc_fwdswaprate(discounts, Tfwd, Tswap, freqswap)\n",
    "print(f\"The forward swap rate is: {fwdswap:.4%}\")\n",
    "\n",
    "# Calculating Swaption Price\n",
    "\n",
    "# Compounding frequency of the Discount Curve\n",
    "freqcurve = 4\n",
    "# Sum of Discount Factor Calculation\n",
    "period_fwd = curvedata.index.get_loc(Topt)\n",
    "period_swap = curvedata.index.get_loc(Topt+tenor_swap)+1\n",
    "step = round(freqcurve/freqswap)\n",
    "sum_discount = curvedata['discounts'].iloc[period_fwd + step : period_swap : step].sum()/freqswap\n",
    "\n",
    "# Formula Inputs\n",
    "N = 100\n",
    "T = Topt\n",
    "vol = volATM\n",
    "strike = strike_ATM\n",
    "fwd = fwdswap\n",
    "# Use the sum of discount \n",
    "discount = sum_discount\n",
    "\n",
    "# Payer Swaption Price = N x Call Option Price (via Black's Formula)\n",
    "swaption_price_3m4y = N * blacks_formula(T, vol, strike, fwd, discount, isCall=True)\n",
    "print(f\"Price for {Topt}-year {tenor_swap}-year Swaption is: ${swaption_price_3m4y:.4f}\")"
   ]
  },
  {
   "cell_type": "code",
   "execution_count": 19,
   "id": "7edb777a",
   "metadata": {},
   "outputs": [
    {
     "name": "stdout",
     "output_type": "stream",
     "text": [
      "The forward swap rate is: 3.9621%\n",
      "Price for 2-year 4-year Swaption is: $1.9933\n"
     ]
    }
   ],
   "source": [
    "# For a 2-year x 4-year swaption\n",
    "Topt = 2\n",
    "tenor_swap = 4\n",
    "tenor_swaption = Topt + tenor_swap\n",
    "Tswap = tenor_swaption\n",
    "\n",
    "# Formula inputs for Forward Swap Rate\n",
    "# Time for Forward Exercise = Option's Tenor\n",
    "Tfwd = Topt\n",
    "# Use the swaption's tenor, not just the swap\n",
    "Tswap = T_swaption\n",
    "freqswap = 4\n",
    "discounts = curvedata['discounts']\n",
    "\n",
    "fwdswap = calc_fwdswaprate(discounts, Tfwd, Tswap, freqswap)\n",
    "print(f\"The forward swap rate is: {fwdswap:.4%}\")\n",
    "\n",
    "# Calculating Swaption Price\n",
    "\n",
    "# Compounding frequency of the Discount Curve\n",
    "freqcurve = 4\n",
    "# Sum of Discount Factor Calculation\n",
    "period_fwd = curvedata.index.get_loc(Topt)\n",
    "period_swap = curvedata.index.get_loc(Topt+tenor_swap)+1\n",
    "step = round(freqcurve/freqswap)\n",
    "sum_discount = curvedata['discounts'].iloc[period_fwd + step : period_swap : step].sum()/freqswap\n",
    "\n",
    "# Formula Inputs\n",
    "N = 100\n",
    "T = Topt\n",
    "vol = volATM\n",
    "strike = strike_ATM\n",
    "fwd = fwdswap\n",
    "# Use the sum of discount \n",
    "discount = sum_discount\n",
    "\n",
    "# Payer Swaption Price = N x Call Option Price (via Black's Formula)\n",
    "swaption_price_2y4y = N * blacks_formula(T, vol, strike, fwd, discount, isCall=True)\n",
    "print(f\"Price for {Topt}-year {tenor_swap}-year Swaption is: ${swaption_price_2y4y:.4f}\")"
   ]
  },
  {
   "cell_type": "code",
   "execution_count": 20,
   "id": "a1f2874f",
   "metadata": {},
   "outputs": [
    {
     "name": "stdout",
     "output_type": "stream",
     "text": [
      "The forward swap rate is: 3.9385%\n",
      "Price for 1-year 2-year Swaption is: $0.7463\n"
     ]
    }
   ],
   "source": [
    "# For a 1-year x 2-year swaption\n",
    "Topt = 1\n",
    "tenor_swap = 2\n",
    "tenor_swaption = Topt + tenor_swap\n",
    "Tswap = tenor_swaption\n",
    "\n",
    "# Formula inputs for Forward Swap Rate\n",
    "# Time for Forward Exercise = Option's Tenor\n",
    "Tfwd = Topt\n",
    "# Use the swaption's tenor, not just the swap\n",
    "Tswap = T_swaption\n",
    "freqswap = 4\n",
    "discounts = curvedata['discounts']\n",
    "\n",
    "fwdswap = calc_fwdswaprate(discounts, Tfwd, Tswap, freqswap)\n",
    "print(f\"The forward swap rate is: {fwdswap:.4%}\")\n",
    "\n",
    "# Calculating Swaption Price\n",
    "\n",
    "# Compounding frequency of the Discount Curve\n",
    "freqcurve = 4\n",
    "# Sum of Discount Factor Calculation\n",
    "period_fwd = curvedata.index.get_loc(Topt)\n",
    "period_swap = curvedata.index.get_loc(Topt+tenor_swap)+1\n",
    "step = round(freqcurve/freqswap)\n",
    "sum_discount = curvedata['discounts'].iloc[period_fwd + step : period_swap : step].sum()/freqswap\n",
    "\n",
    "# Formula Inputs\n",
    "N = 100\n",
    "T = Topt\n",
    "vol = volATM\n",
    "strike = strike_ATM\n",
    "fwd = fwdswap\n",
    "# Use the sum of discount \n",
    "discount = sum_discount\n",
    "\n",
    "# Payer Swaption Price = N x Call Option Price (via Black's Formula)\n",
    "swaption_price_1y2y = N * blacks_formula(T, vol, strike, fwd, discount, isCall=True)\n",
    "print(f\"Price for {Topt}-year {tenor_swap}-year Swaption is: ${swaption_price_1y2y:.4f}\")"
   ]
  },
  {
   "cell_type": "code",
   "execution_count": 21,
   "id": "36d9ebb7",
   "metadata": {},
   "outputs": [
    {
     "name": "stdout",
     "output_type": "stream",
     "text": [
      "The forward swap rate is: 3.9385%\n",
      "Price for 1-year 4-year Swaption is: $1.4362\n"
     ]
    }
   ],
   "source": [
    "# For a 1-year x 4-year swaption\n",
    "Topt = 1\n",
    "tenor_swap = 4\n",
    "tenor_swaption = Topt + tenor_swap\n",
    "Tswap = tenor_swaption\n",
    "\n",
    "# Formula inputs for Forward Swap Rate\n",
    "# Time for Forward Exercise = Option's Tenor\n",
    "Tfwd = Topt\n",
    "# Use the swaption's tenor, not just the swap\n",
    "Tswap = T_swaption\n",
    "freqswap = 4\n",
    "discounts = curvedata['discounts']\n",
    "\n",
    "fwdswap = calc_fwdswaprate(discounts, Tfwd, Tswap, freqswap)\n",
    "print(f\"The forward swap rate is: {fwdswap:.4%}\")\n",
    "\n",
    "# Calculating Swaption Price\n",
    "\n",
    "# Compounding frequency of the Discount Curve\n",
    "freqcurve = 4\n",
    "# Sum of Discount Factor Calculation\n",
    "period_fwd = curvedata.index.get_loc(Topt)\n",
    "period_swap = curvedata.index.get_loc(Topt+tenor_swap)+1\n",
    "step = round(freqcurve/freqswap)\n",
    "sum_discount = curvedata['discounts'].iloc[period_fwd + step : period_swap : step].sum()/freqswap\n",
    "\n",
    "# Formula Inputs\n",
    "N = 100\n",
    "T = Topt\n",
    "vol = volATM\n",
    "strike = strike_ATM\n",
    "fwd = fwdswap\n",
    "# Use the sum of discount \n",
    "discount = sum_discount\n",
    "\n",
    "# Payer Swaption Price = N x Call Option Price (via Black's Formula)\n",
    "swaption_price_1y4y = N * blacks_formula(T, vol, strike, fwd, discount, isCall=True)\n",
    "print(f\"Price for {Topt}-year {tenor_swap}-year Swaption is: ${swaption_price_1y4y:.4f}\")"
   ]
  },
  {
   "cell_type": "code",
   "execution_count": 22,
   "id": "bf26ba6d",
   "metadata": {},
   "outputs": [
    {
     "name": "stdout",
     "output_type": "stream",
     "text": [
      "Price for 3-mo x 4-yr Swaption is: $0.7808\n",
      "Price for 1-yr x 4-yr Swaption is: $1.4362\n",
      "Price for 2-yr x 4-yr Swaption is: $1.9933\n",
      "Price for 1-yr x 2-yr Swaption is: $0.7463\n"
     ]
    }
   ],
   "source": [
    "print(f\"Price for {3}-mo x {4}-yr Swaption is: ${swaption_price_3m4y:.4f}\")\n",
    "print(f\"Price for {1}-yr x {4}-yr Swaption is: ${swaption_price_1y4y:.4f}\")\n",
    "print(f\"Price for {2}-yr x {4}-yr Swaption is: ${swaption_price_2y4y:.4f}\")\n",
    "print(f\"Price for {1}-yr x {2}-yr Swaption is: ${swaption_price_1y2y:.4f}\")"
   ]
  },
  {
   "cell_type": "markdown",
   "id": "6fba6057",
   "metadata": {},
   "source": [
    "More time to exercise the option, the more expensive the swaption becomes."
   ]
  },
  {
   "cell_type": "markdown",
   "id": "201396ec",
   "metadata": {},
   "source": [
    "***"
   ]
  },
  {
   "cell_type": "markdown",
   "id": "c80b48bb",
   "metadata": {},
   "source": [
    "# 2. SABR Volatility Modeling"
   ]
  },
  {
   "cell_type": "markdown",
   "id": "bfb69565",
   "metadata": {},
   "source": [
    "Use the quoted volatility skew to fit a SABR model.\n",
    "* Throughout, parameterize, `beta=.75`."
   ]
  },
  {
   "cell_type": "code",
   "execution_count": 23,
   "id": "812b2648",
   "metadata": {},
   "outputs": [],
   "source": [
    "BETA = 0.75"
   ]
  },
  {
   "cell_type": "markdown",
   "id": "7259f005",
   "metadata": {},
   "source": [
    "### 2.1.\n",
    "Estimate $(\\alpha,\\rho,\\nu)$ via the SABR formula. Feel free to use the `sabr` function in `cmds/volskew.py`.\n",
    "\n",
    "Report the values of these parameters."
   ]
  },
  {
   "cell_type": "code",
   "execution_count": 24,
   "id": "a5aa1417",
   "metadata": {},
   "outputs": [
    {
     "name": "stdout",
     "output_type": "stream",
     "text": [
      "The forward swap rate is: 3.9385%\n",
      "Price for 1-year 4-year Swaption is: $1.4362\n"
     ]
    }
   ],
   "source": [
    "# For a 1-year x 4-year swaption\n",
    "Topt = 1\n",
    "tenor_swap = 4\n",
    "tenor_swaption = Topt + tenor_swap\n",
    "Tswap = tenor_swaption\n",
    "\n",
    "# Formula inputs for Forward Swap Rate\n",
    "# Time for Forward Exercise = Option's Tenor\n",
    "Tfwd = Topt\n",
    "# Use the swaption's tenor, not just the swap\n",
    "Tswap = T_swaption\n",
    "freqswap = 4\n",
    "discounts = curvedata['discounts']\n",
    "\n",
    "fwdswap = calc_fwdswaprate(discounts, Tfwd, Tswap, freqswap)\n",
    "print(f\"The forward swap rate is: {fwdswap:.4%}\")\n",
    "\n",
    "# Calculating Swaption Price\n",
    "\n",
    "# Compounding frequency of the Discount Curve\n",
    "freqcurve = 4\n",
    "# Sum of Discount Factor Calculation\n",
    "period_fwd = curvedata.index.get_loc(Topt)\n",
    "period_swap = curvedata.index.get_loc(Topt+tenor_swap)+1\n",
    "step = round(freqcurve/freqswap)\n",
    "sum_discount = curvedata['discounts'].iloc[period_fwd + step : period_swap : step].sum()/freqswap\n",
    "\n",
    "# Formula Inputs\n",
    "N = 100\n",
    "T = Topt\n",
    "vol = volATM\n",
    "strike = strike_ATM\n",
    "fwd = fwdswap\n",
    "# Use the sum of discount \n",
    "discount = sum_discount\n",
    "\n",
    "# Payer Swaption Price = N x Call Option Price (via Black's Formula)\n",
    "swaption_price_1y4y = N * blacks_formula(T, vol, strike, fwd, discount, isCall=True)\n",
    "print(f\"Price for {Topt}-year {tenor_swap}-year Swaption is: ${swaption_price_1y4y:.4f}\")"
   ]
  },
  {
   "cell_type": "code",
   "execution_count": 25,
   "id": "19aa5af5",
   "metadata": {},
   "outputs": [
    {
     "data": {
      "text/html": [
       "<style type=\"text/css\">\n",
       "</style>\n",
       "<table id=\"T_ff3a8\">\n",
       "  <thead>\n",
       "    <tr>\n",
       "      <th class=\"blank level0\" >&nbsp;</th>\n",
       "      <th id=\"T_ff3a8_level0_col0\" class=\"col_heading level0 col0\" >SABR Parameters</th>\n",
       "    </tr>\n",
       "  </thead>\n",
       "  <tbody>\n",
       "    <tr>\n",
       "      <th id=\"T_ff3a8_level0_row0\" class=\"row_heading level0 row0\" >beta</th>\n",
       "      <td id=\"T_ff3a8_row0_col0\" class=\"data row0 col0\" >0.7500</td>\n",
       "    </tr>\n",
       "    <tr>\n",
       "      <th id=\"T_ff3a8_level0_row1\" class=\"row_heading level0 row1\" >alpha</th>\n",
       "      <td id=\"T_ff3a8_row1_col0\" class=\"data row1 col0\" >0.1128</td>\n",
       "    </tr>\n",
       "    <tr>\n",
       "      <th id=\"T_ff3a8_level0_row2\" class=\"row_heading level0 row2\" >nu</th>\n",
       "      <td id=\"T_ff3a8_row2_col0\" class=\"data row2 col0\" >0.6913</td>\n",
       "    </tr>\n",
       "    <tr>\n",
       "      <th id=\"T_ff3a8_level0_row3\" class=\"row_heading level0 row3\" >rho</th>\n",
       "      <td id=\"T_ff3a8_row3_col0\" class=\"data row3 col0\" >-0.3448</td>\n",
       "    </tr>\n",
       "    <tr>\n",
       "      <th id=\"T_ff3a8_level0_row4\" class=\"row_heading level0 row4\" >fit error</th>\n",
       "      <td id=\"T_ff3a8_row4_col0\" class=\"data row4 col0\" >0.0000</td>\n",
       "    </tr>\n",
       "  </tbody>\n",
       "</table>\n"
      ],
      "text/plain": [
       "<pandas.io.formats.style.Styler at 0x1592e88b0>"
      ]
     },
     "execution_count": 25,
     "metadata": {},
     "output_type": "execute_result"
    }
   ],
   "source": [
    "# Computing the SABR Parameters \n",
    "\n",
    "# Inputs\n",
    "doSLIM = False\n",
    "BETA = 0.75\n",
    "F = fwdswap-1e-8\n",
    "\n",
    "def obj_fun(xargs):\n",
    "    nu = xargs[0]\n",
    "    rho = xargs[1]\n",
    "    alpha = xargs[2]\n",
    "    \n",
    "    ivolSABR = np.zeros(len(strikes))\n",
    "    \n",
    "    for i,strike in enumerate(strikes):\n",
    "         ivolSABR[i] = sabr(BETA,nu,rho,alpha,F,strike,Topt)\n",
    "    \n",
    "    error = ((ivolSABR - vols.values)**2).sum()\n",
    "    \n",
    "    return error\n",
    "\n",
    "def obj_fun_slim(xargs):\n",
    "    nu = xargs[0]\n",
    "    rho = xargs[1]\n",
    "    ivolSABR = np.zeros(len(strikes))\n",
    "    \n",
    "    for i,strike in enumerate(strikes):\n",
    "         ivolSABR[i] = sabr_slim(BETA,nu,rho,F,strike,Topt,volATM)\n",
    "    \n",
    "    error = ((ivolSABR - vols.values)**2).sum()\n",
    "    \n",
    "    return error\n",
    "\n",
    "if not doSLIM:\n",
    "    # Initial guess, nu = 0.6, rho = 0, alpha = 0.1\n",
    "    x0 = np.array([.6,0,.1])\n",
    "    fun = obj_fun\n",
    "else:\n",
    "    fun = obj_fun_slim\n",
    "    # Initial guess, nu = 0.6, rho = 0, alpha = 0.1\n",
    "    x0 = np.array([.6,0,.1])\n",
    "\n",
    "optim = minimize(fun,x0)\n",
    "xstar = optim.x\n",
    "nustar = xstar[0]\n",
    "rhostar = xstar[1]\n",
    "   \n",
    "if doSLIM:\n",
    "    beta = BETA\n",
    "    nu = nustar\n",
    "    rho = rhostar\n",
    "    f = F\n",
    "    K = strikes # Use strikes\n",
    "    T = Topt\n",
    "    volATM = volATM\n",
    "    alphastar = solve_alpha(beta, nu, rho, T, volATM, f)\n",
    "    ivolSABR = sabr_slim(beta,nu,rho,f,K,T,volATM)\n",
    "else:\n",
    "    beta = BETA\n",
    "    nu = nustar\n",
    "    rho = rhostar\n",
    "    alphastar = xstar[2] # Use the guessed value\n",
    "    alpha = alphastar\n",
    "    f = F\n",
    "    K = strikes\n",
    "    T = Topt\n",
    "    ivolSABR = sabr(beta,nu,rho,alpha,f,K,T)\n",
    "    \n",
    "error = optim.fun\n",
    "\n",
    "# print(f\"beta: {BETA:.4f}\")\n",
    "# print(f\"alpha: {alphastar:.4f}\")\n",
    "# print(f\"nu: {nustar:.4f}\")\n",
    "# print(f\"rho: {rhostar:.4f}\")\n",
    "# print(f\"fit error: {error:.4f}\")\n",
    "\n",
    "param = pd.DataFrame([BETA, alphastar, nustar, rhostar, error],\n",
    "                     index=['beta','alpha','nu','rho','fit error'],\n",
    "                     columns=['SABR Parameters']).style.format('{:.4f}')\n",
    "param"
   ]
  },
  {
   "cell_type": "markdown",
   "id": "f28d54c7",
   "metadata": {},
   "source": [
    "### 2.2.\n",
    "Create a grid of strikes of `[.0025, .09]`, with grid spacing of `10bps`, (.0010).\n",
    "\n",
    "Use the SABR model parameterized above to calculate the volatility for each of these strikes.\n",
    "\n",
    "* Plot the SABR curve, and also include the market quotes in the plot.\n",
    "\n",
    "* Conceptually, does the SABR curve fit these points well? Perfectly?"
   ]
  },
  {
   "cell_type": "code",
   "execution_count": 26,
   "id": "53997561",
   "metadata": {},
   "outputs": [
    {
     "data": {
      "text/html": [
       "<div>\n",
       "<style scoped>\n",
       "    .dataframe tbody tr th:only-of-type {\n",
       "        vertical-align: middle;\n",
       "    }\n",
       "\n",
       "    .dataframe tbody tr th {\n",
       "        vertical-align: top;\n",
       "    }\n",
       "\n",
       "    .dataframe thead th {\n",
       "        text-align: right;\n",
       "    }\n",
       "</style>\n",
       "<table border=\"1\" class=\"dataframe\">\n",
       "  <thead>\n",
       "    <tr style=\"text-align: right;\">\n",
       "      <th></th>\n",
       "      <th>Imp Vol SABR</th>\n",
       "    </tr>\n",
       "  </thead>\n",
       "  <tbody>\n",
       "    <tr>\n",
       "      <th>0.0025</th>\n",
       "      <td>0.887987</td>\n",
       "    </tr>\n",
       "    <tr>\n",
       "      <th>0.0035</th>\n",
       "      <td>0.814570</td>\n",
       "    </tr>\n",
       "    <tr>\n",
       "      <th>0.0045</th>\n",
       "      <td>0.758906</td>\n",
       "    </tr>\n",
       "    <tr>\n",
       "      <th>0.0055</th>\n",
       "      <td>0.713923</td>\n",
       "    </tr>\n",
       "    <tr>\n",
       "      <th>0.0065</th>\n",
       "      <td>0.676093</td>\n",
       "    </tr>\n",
       "  </tbody>\n",
       "</table>\n",
       "</div>"
      ],
      "text/plain": [
       "        Imp Vol SABR\n",
       "0.0025      0.887987\n",
       "0.0035      0.814570\n",
       "0.0045      0.758906\n",
       "0.0055      0.713923\n",
       "0.0065      0.676093"
      ]
     },
     "execution_count": 26,
     "metadata": {},
     "output_type": "execute_result"
    }
   ],
   "source": [
    "strikegrid = np.arange(.0025,.09,.001)\n",
    "\n",
    "# Implied Volatility via SABR\n",
    "if doSLIM:\n",
    "    beta = BETA\n",
    "    nu = nustar\n",
    "    rho = rhostar\n",
    "    f = F\n",
    "    K = strikegrid\n",
    "    T = Topt\n",
    "    volATM = volATM\n",
    "    ivolgrid = sabr_slim(beta,nu,rho,f,K,T,volATM)\n",
    "else: \n",
    "    beta = BETA\n",
    "    nu = nustar\n",
    "    rho = rhostar\n",
    "    alpha = alphastar\n",
    "    f = F\n",
    "    K = strikegrid\n",
    "    T = Topt\n",
    "    ivolgrid = sabr(beta,nu,rho,alpha,f,K,T)\n",
    "    \n",
    "sabrcurve = pd.DataFrame(ivolgrid, index=strikegrid, columns=['Imp Vol SABR'])\n",
    "sabrcurve.head()\n"
   ]
  },
  {
   "cell_type": "code",
   "execution_count": 27,
   "id": "189b0a60",
   "metadata": {},
   "outputs": [
    {
     "data": {
      "text/html": [
       "<div>\n",
       "<style scoped>\n",
       "    .dataframe tbody tr th:only-of-type {\n",
       "        vertical-align: middle;\n",
       "    }\n",
       "\n",
       "    .dataframe tbody tr th {\n",
       "        vertical-align: top;\n",
       "    }\n",
       "\n",
       "    .dataframe thead th {\n",
       "        text-align: right;\n",
       "    }\n",
       "</style>\n",
       "<table border=\"1\" class=\"dataframe\">\n",
       "  <thead>\n",
       "    <tr style=\"text-align: right;\">\n",
       "      <th></th>\n",
       "      <th>Imp Vol Market Quotes</th>\n",
       "    </tr>\n",
       "    <tr>\n",
       "      <th>strike</th>\n",
       "      <th></th>\n",
       "    </tr>\n",
       "  </thead>\n",
       "  <tbody>\n",
       "    <tr>\n",
       "      <th>0.019385</th>\n",
       "      <td>0.4213</td>\n",
       "    </tr>\n",
       "    <tr>\n",
       "      <th>0.029385</th>\n",
       "      <td>0.3151</td>\n",
       "    </tr>\n",
       "    <tr>\n",
       "      <th>0.034385</th>\n",
       "      <td>0.2815</td>\n",
       "    </tr>\n",
       "    <tr>\n",
       "      <th>0.036885</th>\n",
       "      <td>0.2689</td>\n",
       "    </tr>\n",
       "    <tr>\n",
       "      <th>0.039385</th>\n",
       "      <td>0.2590</td>\n",
       "    </tr>\n",
       "    <tr>\n",
       "      <th>0.041885</th>\n",
       "      <td>0.2516</td>\n",
       "    </tr>\n",
       "    <tr>\n",
       "      <th>0.044385</th>\n",
       "      <td>0.2466</td>\n",
       "    </tr>\n",
       "    <tr>\n",
       "      <th>0.049385</th>\n",
       "      <td>0.2423</td>\n",
       "    </tr>\n",
       "    <tr>\n",
       "      <th>0.059385</th>\n",
       "      <td>0.2473</td>\n",
       "    </tr>\n",
       "  </tbody>\n",
       "</table>\n",
       "</div>"
      ],
      "text/plain": [
       "          Imp Vol Market Quotes\n",
       "strike                         \n",
       "0.019385                 0.4213\n",
       "0.029385                 0.3151\n",
       "0.034385                 0.2815\n",
       "0.036885                 0.2689\n",
       "0.039385                 0.2590\n",
       "0.041885                 0.2516\n",
       "0.044385                 0.2466\n",
       "0.049385                 0.2423\n",
       "0.059385                 0.2473"
      ]
     },
     "execution_count": 27,
     "metadata": {},
     "output_type": "execute_result"
    }
   ],
   "source": [
    "# Implied Volatility from Market Quotes\n",
    "volquotes = vols.copy()\n",
    "volquotes.loc['strike'] = strikes\n",
    "volquotes = volquotes.T.set_index('strike').rename(columns={'implied vol':'Imp Vol Market Quotes'})\n",
    "volquotes"
   ]
  },
  {
   "cell_type": "code",
   "execution_count": 28,
   "id": "ac3f700c",
   "metadata": {},
   "outputs": [
    {
     "data": {
      "image/png": "[encoded data removed]",
      "text/plain": [
       "<Figure size 640x480 with 1 Axes>"
      ]
     },
     "metadata": {},
     "output_type": "display_data"
    }
   ],
   "source": [
    "fig, ax = plt.subplots()\n",
    "sabrcurve.plot(ax=ax)\n",
    "volquotes.plot(linestyle='',marker='o',markersize=8,ax=ax)\n",
    "plt.title('Implied Volatility SABR Method vs Market Quotes')\n",
    "plt.ylabel('Implied Volatility')\n",
    "plt.xlabel('Strike')\n",
    "plt.legend();"
   ]
  },
  {
   "cell_type": "markdown",
   "id": "c052c301",
   "metadata": {},
   "source": [
    "YEs, the SABR curve fits the points well, perfectly."
   ]
  },
  {
   "cell_type": "markdown",
   "id": "8db71caf",
   "metadata": {},
   "source": [
    "### 2.3.\n",
    "Suppose we want to price the `1y4y` swaption but with a far out-of-the-money strike of `5%`. \n",
    "\n",
    "* Use the SABR vol at this strike to price the swaption.\n",
    "\n",
    "(Note that this strike is far outside the range for which we have market quotes, and even if we do have quotes, they likely are not liquid on a given day.)\n",
    "\n"
   ]
  },
  {
   "cell_type": "code",
   "execution_count": 29,
   "id": "a48a77fd",
   "metadata": {},
   "outputs": [
    {
     "name": "stdout",
     "output_type": "stream",
     "text": [
      "Price of the OTM swaption at strike 5.00% is $0.3179.\n"
     ]
    }
   ],
   "source": [
    "NEWSTRIKE = 5/100\n",
    "\n",
    "if doSLIM:\n",
    "    beta = BETA\n",
    "    nu = nustar\n",
    "    rho = rhostar\n",
    "    f = F\n",
    "    K = NEWSTRIKE\n",
    "    T = Topt\n",
    "    volATM = volATM\n",
    "    newvol = sabr_slim(beta,nu,rho,f,K,T,volATM)\n",
    "    \n",
    "else: \n",
    "    beta = BETA\n",
    "    nu = nustar\n",
    "    rho = rhostar\n",
    "    alpha = alphastar\n",
    "    f = F\n",
    "    K = NEWSTRIKE\n",
    "    T = Topt\n",
    "    newvol = sabr(beta,nu,rho,alpha,f,K,T)\n",
    "\n",
    "# Formula Inputs\n",
    "N = 100\n",
    "T = Topt\n",
    "vol = newvol\n",
    "strike = NEWSTRIKE\n",
    "fwd = fwdswap\n",
    "# Use the sum of discount \n",
    "discount = sum_discount\n",
    "\n",
    "# Payer Swaption Price = N x Call Option Price (via Black's Formula)\n",
    "newprice = N * blacks_formula(T, vol, strike, fwd, discount, isCall=True)\n",
    "print(f'Price of the OTM swaption at strike {NEWSTRIKE:.2%} is ${newprice:.4f}.')\n"
   ]
  },
  {
   "cell_type": "markdown",
   "id": "6ba6d8e7",
   "metadata": {},
   "source": [
    "### 2.4.\n",
    "\n",
    "Use the ATM implied volatility to fit $\\alpha$, (sometimes denoted $\\sigma_0$.) That is, for any choice of $(\\rho,\\nu)$, solve a quadratic equation to get $\\alpha$ as a function of those two parameters, along with $\\beta$, which is at its selected (not estimated) value.\n",
    "\n",
    "Recall that we have a simple relationship between ATM vol and $\\alpha$.\n",
    "$$\\sigma_\\text{ATM} = \\alpha\\frac{B}{F^{1-\\beta}}$$\n",
    "where $B$ is defined in the discussion note. It is a quadratic expression of $\\alpha$ along with $(\\beta,\\rho,\\nu)$.\n",
    "\n",
    "This decouples the optimization. We solve for $(\\rho,\\nu)$ and $\\alpha$ as a function of the other two parameters.\n",
    "\n",
    "Consider using the function `sabrATM` in `cmds/volskew.py`."
   ]
  },
  {
   "cell_type": "code",
   "execution_count": 30,
   "id": "5aa80f89",
   "metadata": {},
   "outputs": [
    {
     "data": {
      "text/html": [
       "<style type=\"text/css\">\n",
       "</style>\n",
       "<table id=\"T_64f5f\">\n",
       "  <thead>\n",
       "    <tr>\n",
       "      <th class=\"blank level0\" >&nbsp;</th>\n",
       "      <th id=\"T_64f5f_level0_col0\" class=\"col_heading level0 col0\" >SABR Parameters</th>\n",
       "    </tr>\n",
       "  </thead>\n",
       "  <tbody>\n",
       "    <tr>\n",
       "      <th id=\"T_64f5f_level0_row0\" class=\"row_heading level0 row0\" >beta</th>\n",
       "      <td id=\"T_64f5f_row0_col0\" class=\"data row0 col0\" >0.7500</td>\n",
       "    </tr>\n",
       "    <tr>\n",
       "      <th id=\"T_64f5f_level0_row1\" class=\"row_heading level0 row1\" >alpha</th>\n",
       "      <td id=\"T_64f5f_row1_col0\" class=\"data row1 col0\" >0.1130</td>\n",
       "    </tr>\n",
       "    <tr>\n",
       "      <th id=\"T_64f5f_level0_row2\" class=\"row_heading level0 row2\" >nu</th>\n",
       "      <td id=\"T_64f5f_row2_col0\" class=\"data row2 col0\" >0.6881</td>\n",
       "    </tr>\n",
       "    <tr>\n",
       "      <th id=\"T_64f5f_level0_row3\" class=\"row_heading level0 row3\" >rho</th>\n",
       "      <td id=\"T_64f5f_row3_col0\" class=\"data row3 col0\" >-0.3465</td>\n",
       "    </tr>\n",
       "    <tr>\n",
       "      <th id=\"T_64f5f_level0_row4\" class=\"row_heading level0 row4\" >fit error</th>\n",
       "      <td id=\"T_64f5f_row4_col0\" class=\"data row4 col0\" >0.0000</td>\n",
       "    </tr>\n",
       "  </tbody>\n",
       "</table>\n"
      ],
      "text/plain": [
       "<pandas.io.formats.style.Styler at 0x159190ca0>"
      ]
     },
     "execution_count": 30,
     "metadata": {},
     "output_type": "execute_result"
    }
   ],
   "source": [
    "# Computing the SABR Parameters\n",
    "# For fitting alpha, and solving for rho and nu\n",
    "# Set doSlim to True\n",
    "\n",
    "# Inputs\n",
    "doSLIM = True\n",
    "BETA = 0.75\n",
    "F = fwdswap-1e-8\n",
    "volATM = volATM\n",
    "\n",
    "def obj_fun(xargs):\n",
    "    nu = xargs[0]\n",
    "    rho = xargs[1]\n",
    "    alpha = xargs[2]\n",
    "    \n",
    "    ivolSABR = np.zeros(len(strikes))\n",
    "    \n",
    "    for i,strike in enumerate(strikes):\n",
    "         ivolSABR[i] = sabr(BETA,nu,rho,alpha,F,strike,Topt)\n",
    "    \n",
    "    error = ((ivolSABR - vols.values)**2).sum()\n",
    "    \n",
    "    return error\n",
    "\n",
    "def obj_fun_slim(xargs):\n",
    "    nu = xargs[0]\n",
    "    rho = xargs[1]\n",
    "    ivolSABR = np.zeros(len(strikes))\n",
    "    \n",
    "    for i,strike in enumerate(strikes):\n",
    "         ivolSABR[i] = sabr_slim(BETA,nu,rho,F,strike,Topt,volATM)\n",
    "    \n",
    "    error = ((ivolSABR - vols.values)**2).sum()\n",
    "    \n",
    "    return error\n",
    "\n",
    "if not doSLIM:\n",
    "    # Initial guess, nu = 0.6, rho = 0, alpha = 0.1\n",
    "    x0 = np.array([.6,0,.1])\n",
    "    fun = obj_fun\n",
    "else:\n",
    "    fun = obj_fun_slim\n",
    "    # Initial guess, nu = 0.6, rho = 0, alpha = 0.1\n",
    "    x0 = np.array([.6,0,.1])\n",
    "\n",
    "optim = minimize(fun,x0)\n",
    "xstar = optim.x\n",
    "nustar = xstar[0]\n",
    "rhostar = xstar[1]\n",
    "   \n",
    "if doSLIM:\n",
    "    beta = BETA\n",
    "    nu = nustar\n",
    "    rho = rhostar\n",
    "    f = F\n",
    "    K = strikes # Use strikes\n",
    "    T = Topt\n",
    "    volATM = volATM\n",
    "    alphastar = solve_alpha(beta, nu, rho, T, volATM, f)\n",
    "    ivolSABR = sabr_slim(beta,nu,rho,f,K,T,volATM)\n",
    "else:\n",
    "    beta = BETA\n",
    "    nu = nustar\n",
    "    rho = rhostar\n",
    "    alphastar = xstar[2] # Use the guessed value\n",
    "    alpha = alphastar\n",
    "    f = F\n",
    "    K = strikes\n",
    "    T = Topt\n",
    "    ivolSABR = sabr(beta,nu,rho,alpha,f,K,T)\n",
    "    \n",
    "error = optim.fun\n",
    "\n",
    "# print(f\"beta: {BETA:.4f}\")\n",
    "# print(f\"alpha: {alphastar:.4f}\")\n",
    "# print(f\"nu: {nustar:.4f}\")\n",
    "# print(f\"rho: {rhostar:.4f}\")\n",
    "# print(f\"fit error: {error:.4f}\")\n",
    "\n",
    "param = pd.DataFrame([BETA, alphastar, nustar, rhostar, error],\n",
    "                     index=['beta','alpha','nu','rho','fit error'],\n",
    "                     columns=['SABR Parameters']).style.format('{:.4f}')\n",
    "param"
   ]
  },
  {
   "cell_type": "markdown",
   "id": "f9478c65",
   "metadata": {},
   "source": [
    "***"
   ]
  },
  {
   "cell_type": "markdown",
   "id": "4b650a96",
   "metadata": {},
   "source": [
    "# 3. SABR and Risk Management"
   ]
  },
  {
   "cell_type": "markdown",
   "id": "dbb8cbb1",
   "metadata": {},
   "source": [
    "Consider how an **increase** of `50bps` in the underlying rate impacts the price of the `1y4y` ATM swaption.\n",
    "\n",
    "Here, we are assuming that\n",
    "* the rate change will impact the forward swap rate directly, one-for-one with other rates.\n",
    "* the shift happens one week after the original quote date.\n",
    "\n",
    "Of course, in reality, a rate change\n",
    "* may price in early to some degree if it is expected\n",
    "* may not impact the forward swap rate one-for-one. We would need to model how the discount curve changes and what that change (level, slope, curvature?) would do to the forward swap rate."
   ]
  },
  {
   "cell_type": "markdown",
   "id": "047fb430",
   "metadata": {},
   "source": [
    "### 3.1\n",
    "\n",
    "Use Black's equation to re-price the `1y4y` swaption with\n",
    "* the same ATM volatility\n",
    "* an underlying (forward swap) rate `increased` `50bps`.\n",
    "* the same time-to-maturities. (We should decrease these all by 1/365, but we focus here on the delta effects rather than the theta. And it would be a small impact anyone.)\n",
    "\n",
    "Report \n",
    "* the new price\n",
    "* the change in price divided by `50bps`, (a numerical delta.)"
   ]
  },
  {
   "cell_type": "code",
   "execution_count": 31,
   "id": "2c813cc4",
   "metadata": {},
   "outputs": [
    {
     "name": "stdout",
     "output_type": "stream",
     "text": [
      "The forward swap rate is: 3.9385%\n",
      "Price for 1-year 4-year Swaption (Original): $1.4362\n"
     ]
    }
   ],
   "source": [
    "# For a 1-year x 4-year swaption\n",
    "Topt = 1\n",
    "tenor_swap = 4\n",
    "tenor_swaption = Topt + tenor_swap\n",
    "Tswap = tenor_swaption\n",
    "\n",
    "# Formula inputs for Forward Swap Rate\n",
    "# Time for Forward Exercise = Option's Tenor\n",
    "Tfwd = Topt\n",
    "# Use the swaption's tenor, not just the swap\n",
    "Tswap = T_swaption\n",
    "freqswap = 4\n",
    "discounts = curvedata['discounts']\n",
    "\n",
    "fwdswap = calc_fwdswaprate(discounts, Tfwd, Tswap, freqswap)\n",
    "print(f\"The forward swap rate is: {fwdswap:.4%}\")\n",
    "\n",
    "# Calculating Swaption Price\n",
    "\n",
    "# Compounding frequency of the Discount Curve\n",
    "freqcurve = 4\n",
    "# Sum of Discount Factor Calculation\n",
    "period_fwd = curvedata.index.get_loc(Topt)\n",
    "period_swap = curvedata.index.get_loc(Tswap)+1\n",
    "step = round(freqcurve/freqswap)\n",
    "sum_discount = curvedata['discounts'].iloc[period_fwd + step : period_swap : step].sum()/freqswap\n",
    "\n",
    "# Formula Inputs\n",
    "N = 100\n",
    "T = Topt\n",
    "vol = volATM\n",
    "strike = strike_ATM\n",
    "fwd = fwdswap\n",
    "# Use the sum of discount \n",
    "discount = sum_discount\n",
    "\n",
    "# Payer Swaption Price = N x Call Option Price (via Black's Formula)\n",
    "swaption_price_1y4y = N * blacks_formula(T, vol, strike, fwd, discount, isCall=True)\n",
    "print(f\"Price for {Topt}-year {tenor_swap}-year Swaption (Original): ${swaption_price_1y4y:.4f}\")"
   ]
  },
  {
   "cell_type": "code",
   "execution_count": 32,
   "id": "e78ec7d1",
   "metadata": {},
   "outputs": [
    {
     "name": "stdout",
     "output_type": "stream",
     "text": [
      "The new forward swap rate: 4.4385%\n",
      "Price for 1-year 4-year Swaption (New): $2.5708\n",
      "Numerical Delta: 226.9222\n"
     ]
    }
   ],
   "source": [
    "# Adjusted Swap Rate\n",
    "SHIFT = 50/10_000\n",
    "fwdswap_adj = fwdswap + SHIFT\n",
    "print(f\"The new forward swap rate: {fwdswap_adj:.4%}\")\n",
    "\n",
    "# Adjusted Swaption Price\n",
    "# Formula Inputs\n",
    "N = 100\n",
    "T = Topt\n",
    "vol = volATM\n",
    "strike = strike_ATM\n",
    "fwd = fwdswap_adj\n",
    "# Use the sum of discount \n",
    "discount = sum_discount\n",
    "\n",
    "# Payer Swaption Price = N x Call Option Price (via Black's Formula)\n",
    "swaption_price_1y4y_adj = N * blacks_formula(T, vol, strike, fwd, discount, isCall=True)\n",
    "print(f\"Price for {Topt}-year {tenor_swap}-year Swaption (New): ${swaption_price_1y4y_adj:.4f}\")\n",
    "\n",
    "# Numerical Delta = Change in Price divided by change in rate (in bps)\n",
    "num_delta_static = (swaption_price_1y4y_adj - swaption_price_1y4y) / SHIFT\n",
    "print(f\"Numerical Delta: {num_delta_static:.4f}\")"
   ]
  },
  {
   "cell_type": "markdown",
   "id": "0d296068",
   "metadata": {},
   "source": [
    "### 3.2\n",
    "\n",
    "Now, we consider how the volatility may change with the underlying shift `up` of `50bps`.\n",
    "\n",
    "Using the same SABR parameters from `2.1`, and the strike grid from `2.2`, plot the new SABR curve accounting for the underlying rate shifting `up` `50bps`."
   ]
  },
  {
   "cell_type": "code",
   "execution_count": 33,
   "id": "95cc4147",
   "metadata": {},
   "outputs": [
    {
     "data": {
      "text/html": [
       "<div>\n",
       "<style scoped>\n",
       "    .dataframe tbody tr th:only-of-type {\n",
       "        vertical-align: middle;\n",
       "    }\n",
       "\n",
       "    .dataframe tbody tr th {\n",
       "        vertical-align: top;\n",
       "    }\n",
       "\n",
       "    .dataframe thead th {\n",
       "        text-align: right;\n",
       "    }\n",
       "</style>\n",
       "<table border=\"1\" class=\"dataframe\">\n",
       "  <thead>\n",
       "    <tr style=\"text-align: right;\">\n",
       "      <th></th>\n",
       "      <th>Imp Vol SABR Original</th>\n",
       "      <th>Imp Vol SABR: underlying + 50bps</th>\n",
       "    </tr>\n",
       "  </thead>\n",
       "  <tbody>\n",
       "    <tr>\n",
       "      <th>0.0025</th>\n",
       "      <td>0.887987</td>\n",
       "      <td>0.912156</td>\n",
       "    </tr>\n",
       "    <tr>\n",
       "      <th>0.0035</th>\n",
       "      <td>0.814570</td>\n",
       "      <td>0.839381</td>\n",
       "    </tr>\n",
       "    <tr>\n",
       "      <th>0.0045</th>\n",
       "      <td>0.758906</td>\n",
       "      <td>0.784218</td>\n",
       "    </tr>\n",
       "    <tr>\n",
       "      <th>0.0055</th>\n",
       "      <td>0.713923</td>\n",
       "      <td>0.739652</td>\n",
       "    </tr>\n",
       "    <tr>\n",
       "      <th>0.0065</th>\n",
       "      <td>0.676093</td>\n",
       "      <td>0.702182</td>\n",
       "    </tr>\n",
       "  </tbody>\n",
       "</table>\n",
       "</div>"
      ],
      "text/plain": [
       "        Imp Vol SABR Original  Imp Vol SABR: underlying + 50bps\n",
       "0.0025               0.887987                          0.912156\n",
       "0.0035               0.814570                          0.839381\n",
       "0.0045               0.758906                          0.784218\n",
       "0.0055               0.713923                          0.739652\n",
       "0.0065               0.676093                          0.702182"
      ]
     },
     "execution_count": 33,
     "metadata": {},
     "output_type": "execute_result"
    }
   ],
   "source": [
    "# Inputs\n",
    "SHIFT = 50/10_000\n",
    "\n",
    "sabrcurve.rename(columns={'Imp Vol SABR':f'Imp Vol SABR Original'},inplace=True)\n",
    "\n",
    "# Implied Volatility via SABR\n",
    "if doSLIM:\n",
    "    beta = BETA\n",
    "    nu = nustar\n",
    "    rho = rhostar\n",
    "    f = F + SHIFT\n",
    "    K = strikegrid\n",
    "    T = Topt\n",
    "    volATM = volATM\n",
    "    ivolgrid = sabr_slim(beta,nu,rho,f,K,T,volATM)\n",
    "    \n",
    "else: \n",
    "    beta = BETA\n",
    "    nu = nustar\n",
    "    rho = rhostar\n",
    "    alpha = alphastar\n",
    "    f = F + SHIFT\n",
    "    K = strikegrid\n",
    "    T = Topt\n",
    "    ivolgrid = sabr(beta,nu,rho,alpha,f,K,T)\n",
    "    \n",
    "# sabrcurve = pd.DataFrame(ivolgrid, index=strikegrid, columns=['Imp Vol SABR'])\n",
    "sabrcurve[f'Imp Vol SABR: underlying + {SHIFT*10_000:.0f}bps'] = ivolgrid\n",
    "sabrcurve.head()"
   ]
  },
  {
   "cell_type": "code",
   "execution_count": 34,
   "id": "41525f92",
   "metadata": {},
   "outputs": [
    {
     "data": {
      "image/png": "[encoded data removed]",
      "text/plain": [
       "<Figure size 640x480 with 1 Axes>"
      ]
     },
     "metadata": {},
     "output_type": "display_data"
    }
   ],
   "source": [
    "fig, ax = plt.subplots()\n",
    "sabrcurve.plot(ax=ax)\n",
    "\n",
    "# give limits for the x and y axis to zoom in \n",
    "plt.xlim([F-.01, F+.01])\n",
    "plt.ylim([volATM-.05, volATM+.05])\n",
    "\n",
    "# Lines for the strike price\n",
    "plt.axvline(F, color='k', linestyle='--', label=f'underlying')\n",
    "plt.axvline(F+SHIFT, color='k', linestyle=':', label=f'underlying + {SHIFT*10_000:.0f}bps')\n",
    "\n",
    "plt.title('Swaption Implied Volatility')\n",
    "plt.ylabel('Implied Volatility');\n",
    "plt.xlabel('Strike')\n",
    "plt.legend();"
   ]
  },
  {
   "cell_type": "markdown",
   "id": "2fcda8b9",
   "metadata": {},
   "source": [
    "### 3.3\n",
    "\n",
    "Calculate the new volatility specifically for the pre-shift ATM strike.\n",
    "\n",
    "Use this in Black's formula similar to `3.1`, where the only change is the volatility now reflects the shift in the underlying (not the strike).\n",
    "\n",
    "Report\n",
    "* the new price\n",
    "* the change in price divided by `50bps`"
   ]
  },
  {
   "cell_type": "code",
   "execution_count": 35,
   "id": "e82e0a0a",
   "metadata": {},
   "outputs": [
    {
     "name": "stdout",
     "output_type": "stream",
     "text": [
      "Strike ATM is: 3.9385%\n"
     ]
    }
   ],
   "source": [
    "print(f\"Strike ATM is: {strike_ATM:.4%}\")"
   ]
  },
  {
   "cell_type": "code",
   "execution_count": 36,
   "id": "53e0cb14",
   "metadata": {},
   "outputs": [
    {
     "name": "stdout",
     "output_type": "stream",
     "text": [
      "New Implied Volatility: 27.2950%\n"
     ]
    }
   ],
   "source": [
    "doSLIM = False\n",
    "\n",
    "# Implied Volatility via SABR\n",
    "if doSLIM:\n",
    "    beta = BETA\n",
    "    nu = nustar\n",
    "    rho = rhostar\n",
    "    f = F + SHIFT\n",
    "    K = strike_ATM\n",
    "    T = Topt\n",
    "    volATM = volATM\n",
    "    ivol_new = sabr_slim(beta,nu,rho,f,K,T,volATM)\n",
    "else: \n",
    "    beta = BETA\n",
    "    nu = nustar\n",
    "    rho = rhostar\n",
    "    alpha = alphastar\n",
    "    f = F + SHIFT\n",
    "    K = strike_ATM\n",
    "    T = Topt\n",
    "    ivol_new = sabr(beta,nu,rho,alpha,f,K,T)\n",
    "    \n",
    "print(f\"New Implied Volatility: {ivol_new:.4%}\")"
   ]
  },
  {
   "cell_type": "code",
   "execution_count": 37,
   "id": "da1670ab",
   "metadata": {},
   "outputs": [
    {
     "name": "stdout",
     "output_type": "stream",
     "text": [
      "The new forward swap rate: 4.4385%\n",
      "Price for 1-year 4-year Swaption (New): $2.6446\n",
      "Dynamic Delta: 241.6790\n"
     ]
    }
   ],
   "source": [
    "# Adjusted Swap Rate\n",
    "SHIFT = 50/10_000\n",
    "fwdswap_adj = fwdswap + SHIFT\n",
    "print(f\"The new forward swap rate: {fwdswap_adj:.4%}\")\n",
    "\n",
    "# Adjusted Swaption Price\n",
    "# Formula Inputs\n",
    "N = 100\n",
    "T = Topt\n",
    "vol = ivol_new # Use new implied vol\n",
    "strike = strike_ATM\n",
    "fwd = fwdswap_adj\n",
    "# Use the sum of discount \n",
    "discount = sum_discount\n",
    "\n",
    "# Payer Swaption Price = N x Call Option Price (via Black's Formula)\n",
    "swaption_price_1y4y_adj_dynamic = N * blacks_formula(T, vol, strike, fwd, discount, isCall=True)\n",
    "print(f\"Price for {Topt}-year {tenor_swap}-year Swaption (New): ${swaption_price_1y4y_adj_dynamic:.4f}\")\n",
    "\n",
    "# Numerical Delta = Change in Price divided by change in rate (in bps)\n",
    "num_delta_dynamic = (swaption_price_1y4y_adj_dynamic - swaption_price_1y4y) / SHIFT\n",
    "print(f\"Dynamic Delta: {num_delta_dynamic:.4f}\")"
   ]
  },
  {
   "cell_type": "markdown",
   "id": "b1210951",
   "metadata": {},
   "source": [
    "### 3.4\n",
    "\n",
    "How much different is the (dynamic) delta which accounts for the shift in volatility from the (static) delta in `3.1`?"
   ]
  },
  {
   "cell_type": "code",
   "execution_count": 38,
   "id": "51143b51",
   "metadata": {},
   "outputs": [
    {
     "name": "stdout",
     "output_type": "stream",
     "text": [
      "Static Delta: 226.9222\n",
      "Dynamic Delta: 241.6790\n",
      "Percent Change in Delta, relative to Static Delta: 6.5030%\n"
     ]
    }
   ],
   "source": [
    "print(f\"Static Delta: {num_delta_static:.4f}\")\n",
    "print(f\"Dynamic Delta: {num_delta_dynamic:.4f}\")\n",
    "\n",
    "delta_change = (num_delta_dynamic - num_delta_static)/num_delta_static\n",
    "print(f\"Percent Change in Delta, relative to Static Delta: {delta_change:.4%}\")"
   ]
  },
  {
   "cell_type": "markdown",
   "id": "ba259807",
   "metadata": {},
   "source": [
    "***"
   ]
  }
 ],
 "metadata": {
  "hide_input": true,
  "kernelspec": {
   "display_name": "Python 3",
   "language": "python",
   "name": "python3"
  },
  "language_info": {
   "codemirror_mode": {
    "name": "ipython",
    "version": 3
   },
   "file_extension": ".py",
   "mimetype": "text/x-python",
   "name": "python",
   "nbconvert_exporter": "python",
   "pygments_lexer": "ipython3",
   "version": "3.9.6"
  }
 },
 "nbformat": 4,
 "nbformat_minor": 5
}
